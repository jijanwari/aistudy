{
 "cells": [
  {
   "cell_type": "code",
   "execution_count": null,
   "metadata": {},
   "outputs": [],
   "source": [
    "import numpy as np"
   ]
  },
  {
   "cell_type": "markdown",
   "metadata": {},
   "source": [
    "# ４章　線形代数\n",
    "\n",
    "## ４．１　ベクトル\n",
    "\n",
    "ベクトル、スカラー\n",
    "\n",
    "### ゼロから作る方法としてベクトルを数値のリストとして表現するのが最もかんたんです。"
   ]
  },
  {
   "cell_type": "code",
   "execution_count": 3,
   "metadata": {},
   "outputs": [
    {
     "data": {
      "text/plain": [
       "[70, 170, 40]"
      ]
     },
     "execution_count": 3,
     "metadata": {},
     "output_type": "execute_result"
    }
   ],
   "source": [
    "height_weight_age = [ 70, #身長\n",
    "                     170, #体重\n",
    "                     40]  #年齢\n",
    "\n",
    "height_weight_age"
   ]
  },
  {
   "cell_type": "markdown",
   "metadata": {},
   "source": [
    "### ベクトルの和　差は省略"
   ]
  },
  {
   "cell_type": "code",
   "execution_count": 28,
   "metadata": {},
   "outputs": [
    {
     "name": "stdout",
     "output_type": "stream",
     "text": [
      "[5 9 7 9 4]\n",
      "[ 5  7  9 11 13]\n",
      "[10, 16, 16, 20, 17]\n",
      "(5,)\n",
      "(5,)\n"
     ]
    }
   ],
   "source": [
    "def vector_add(v,w):\n",
    "    \"\"\"対応する要素の和\"\"\"\n",
    "    return [v_i+w_i for v_i, w_i in zip(v,w)]\n",
    "\n",
    "\n",
    "v1 = np.random.randint(0, 10, 5)\n",
    "w1 = np.arange(5, 15, 2)\n",
    "\n",
    "print(v1)\n",
    "print(w1)\n",
    "\n",
    "res1 = vector_add(v1, w1)\n",
    "\n",
    "print(res1)\n",
    "\n",
    "print(np.shape(v1))\n",
    "\n",
    "print(np.shape(res1))\n"
   ]
  },
  {
   "cell_type": "markdown",
   "metadata": {},
   "source": [
    "### 要素ごとの和を求める (reduce)"
   ]
  },
  {
   "cell_type": "code",
   "execution_count": 62,
   "metadata": {},
   "outputs": [
    {
     "name": "stdout",
     "output_type": "stream",
     "text": [
      "入力\n",
      "[[3 4 1 6]\n",
      " [9 8 1 4]\n",
      " [6 2 5 7]]\n",
      "-------------\n",
      "res:[3 4 1 6]\n",
      "vec:[9 8 1 4]\n",
      "res:[12, 12, 2, 10]\n",
      "vec:[6 2 5 7]\n",
      "res:[18, 14, 7, 17]\n",
      "出力\n",
      "[18, 14, 7, 17]\n",
      "------------------------------------------\n",
      "入力\n",
      "[[[6 3 3 0]\n",
      "  [7 5 0 4]\n",
      "  [2 4 7 9]]\n",
      "\n",
      " [[5 5 5 5]\n",
      "  [0 0 7 0]\n",
      "  [5 0 7 2]]]\n",
      "-------------\n",
      "res:[[6 3 3 0]\n",
      " [7 5 0 4]\n",
      " [2 4 7 9]]\n",
      "vec:[[5 5 5 5]\n",
      " [0 0 7 0]\n",
      " [5 0 7 2]]\n",
      "res:[array([11,  8,  8,  5]), array([7, 5, 7, 4]), array([ 7,  4, 14, 11])]\n",
      "出力\n",
      "[array([11,  8,  8,  5]), array([7, 5, 7, 4]), array([ 7,  4, 14, 11])]\n"
     ]
    }
   ],
   "source": [
    "def vector_sum(vectors):\n",
    "    \"\"\"対応する要素の総和\"\"\"\n",
    "    result = vectors[0]\n",
    "    print(\"res:\", end=\"\")\n",
    "    print(result)\n",
    "    for vector in vectors[1:]:\n",
    "        print(\"vec:\", end=\"\")\n",
    "        print(vector)\n",
    "        result = vector_add(result, vector)   #vector_add()を使う\n",
    "        print(\"res:\", end=\"\")\n",
    "        print(result)\n",
    "    return result\n",
    "\n",
    "\n",
    "v1 = np.random.randint(0, 10, (3,4))\n",
    "print(\"入力\")\n",
    "print(v1)\n",
    "print(\"-------------\")\n",
    "\n",
    "v2 = vector_sum(v1)\n",
    "\n",
    "print(\"出力\")\n",
    "print(v2)\n",
    "print(\"------------------------------------------\")\n",
    "\n",
    "v3 = np.random.randint(0, 10, (2,3,4))\n",
    "print(\"入力\")\n",
    "print(v3)\n",
    "print(\"-------------\")\n",
    "\n",
    "v4 = vector_sum(v3)\n",
    "print(\"出力\")\n",
    "print(v4)\n"
   ]
  },
  {
   "cell_type": "markdown",
   "metadata": {},
   "source": [
    "### partialを使った書き方　線形代数ではなくpythonの話ですが少し以下に記載\n",
    "\n",
    "\n",
    "functools.reduce(function, iterable)  \n",
    "２引数のfunctionをiterableの要素に対して左から右に累積的に適用し、iterableを単一の値に縮約します  \n",
    "\n",
    "functools.partial  \n",
    "def func(param, param2)  だとして、\n",
    "\n",
    "funcnew = functools.partial(func, param)とすると  \n",
    "\n",
    "funcnew(param2)とすると、 func(param, param2)が実行される  \n"
   ]
  },
  {
   "cell_type": "code",
   "execution_count": 58,
   "metadata": {},
   "outputs": [
    {
     "name": "stdout",
     "output_type": "stream",
     "text": [
      "[[[9 9 1 9]\n",
      "  [3 2 8 5]\n",
      "  [7 5 0 3]]\n",
      "\n",
      " [[3 0 6 2]\n",
      "  [8 5 2 8]\n",
      "  [7 5 5 5]]]\n",
      "[array([12,  9,  7, 11]), array([11,  7, 10, 13]), array([14, 10,  5,  8])]\n"
     ]
    }
   ],
   "source": [
    "import functools as ft\n",
    "vector_sum2 = ft.partial(ft.reduce, vector_add)\n",
    "#->つまり、vector_sum2にあたえられたiterableは、vector_addに累積的に適用され単一の値に縮約される\n",
    "\n",
    "v10 = np.random.randint(0, 10, (2,3,4))\n",
    "print(v10)\n",
    "\n",
    "v12 = vector_sum2(v10)\n",
    "print(v12)"
   ]
  },
  {
   "cell_type": "markdown",
   "metadata": {},
   "source": [
    "    2×3×4が  3×4になっている\n",
    "    [[[0 2 4 9],        [0 2 4 9],        [9 7 3 9]]\n",
    "     [[0 8 1 1],        [5 2 0 4],        [3 5 7 8]]]\n",
    "     \n",
    "     [[ 0, 10,  5, 10], [ 5,  4,  4, 13], [12, 12, 10, 17]]"
   ]
  },
  {
   "cell_type": "markdown",
   "metadata": {},
   "source": [
    "### ベクトルとスカラーの乗算・・・省略\n",
    "### 平均値の算出・・・省略\n",
    "### 内積の計算・・・省略\n",
    "### マグニチュード（大きさ）の計算・・・省略"
   ]
  },
  {
   "cell_type": "markdown",
   "metadata": {},
   "source": [
    "## ４．２行列\n",
    "行列は数値を２次元に配置したものです。ここでは行列をリストのリストとして表現します。\n"
   ]
  },
  {
   "cell_type": "code",
   "execution_count": 59,
   "metadata": {},
   "outputs": [
    {
     "data": {
      "text/plain": [
       "[[1, 2, 3], [4, 5, 6]]"
      ]
     },
     "execution_count": 59,
     "metadata": {},
     "output_type": "execute_result"
    }
   ],
   "source": [
    "A=[[1,2,3], [4,5,6]]\n",
    "A"
   ]
  },
  {
   "cell_type": "markdown",
   "metadata": {},
   "source": [
    "行列の大きさ＝行数×列数"
   ]
  },
  {
   "cell_type": "code",
   "execution_count": 63,
   "metadata": {},
   "outputs": [
    {
     "name": "stdout",
     "output_type": "stream",
     "text": [
      "(2, 3)\n"
     ]
    }
   ],
   "source": [
    "def myshape(A):\n",
    "    num_rows=len(A)\n",
    "    num_cols= len(A[0]) if A else 0\n",
    "    return num_rows, num_cols\n",
    "\n",
    "print(myshape(A))"
   ]
  },
  {
   "cell_type": "markdown",
   "metadata": {},
   "source": [
    "### 単位行列・・・対角要素が１で、それ以外が０の行列"
   ]
  },
  {
   "cell_type": "code",
   "execution_count": 73,
   "metadata": {},
   "outputs": [
    {
     "data": {
      "text/plain": [
       "[[1, 0, 0, 0, 0],\n",
       " [0, 1, 0, 0, 0],\n",
       " [0, 0, 1, 0, 0],\n",
       " [0, 0, 0, 1, 0],\n",
       " [0, 0, 0, 0, 1]]"
      ]
     },
     "execution_count": 73,
     "metadata": {},
     "output_type": "execute_result"
    }
   ],
   "source": [
    "def make_matrix(num_rows, num_cols, entry_fn):\n",
    "    return [\n",
    "               [ entry_fn(i,j) for j in range(num_cols)]\n",
    "                for i in range(num_rows)]\n",
    "\n",
    "def is_diagnonal(i,j):\n",
    "    return 1 if i==j else 0\n",
    "\n",
    "identity_matrix = make_matrix(5, 5, is_diagnonal)\n",
    "\n",
    "identity_matrix"
   ]
  },
  {
   "cell_type": "markdown",
   "metadata": {},
   "source": [
    "p.64  \n",
    "・n × k行列は、k次元のベクトルからn次元のベクトルへの写像を行う線形関数とみなすことが可能です  \n",
    "・行列は２項関係を表現するのにも使えます  \n",
    "    例　ネットワークの接続情報を行列で表現する  \n",
    "    A[i][j]==1・・・ネットワークのノードiとノードjが繋がっている。０なら繋がっていない  \n",
    "  \n",
    "下の例　friendships[0]と繋がっている番号を friends_of_zeroとして抽出する"
   ]
  },
  {
   "cell_type": "code",
   "execution_count": 77,
   "metadata": {},
   "outputs": [
    {
     "data": {
      "text/plain": [
       "[1, 3, 4, 8, 12]"
      ]
     },
     "execution_count": 77,
     "metadata": {},
     "output_type": "execute_result"
    }
   ],
   "source": [
    "friendships = [[0,1,0,1,1,0,0,0,1,0,0,0,1]]\n",
    "\n",
    "friends_of_zero = [i #iを要素として追加する\n",
    "                   for i, is_friend in enumerate(friendships[0])  # (index, value)が i, is_friendにセットされる\n",
    "                   if is_friend #もし is_friendが1なら\n",
    "                  ]\n",
    "\n",
    "friends_of_zero"
   ]
  },
  {
   "cell_type": "markdown",
   "metadata": {},
   "source": [
    "# ５章　統計\n",
    "\n",
    "## ５．１　データの特徴を表す\n",
    "\n",
    "いろんな統計量  \n",
    "・データの数  \n",
    "・最大値、最小値  \n",
    "・２番目に大きな値、２番目に小さな値。。。  \n",
    "いろいろある\n",
    "\n",
    "### ５．１．１　代表値\n",
    "\n",
    "・平均値  \n",
    "・中央値  \n",
    "・分位数・・・上位からx%の位置にある値  \n",
    "・最頻値  \n",
    "\n",
    "### ５．１．２　散らばり\n",
    "\n",
    "分散＝ sigma i（Xi　ー　Xver）Xver：平均 　　\n",
    "\n",
    "標準偏差＝分散の平方根\n",
    "\n",
    "### ５．２　相関\n",
    "\n",
    "共分散　系列Aのデータと、系列Bのデータの関係を表す  \n",
    "共分散= sigma i （XAi-XAver）（XBi-XBver）  XAver：XAの平均、 XBver：XBの平均  \n",
    "　　正か負なら相関あり、０なら相関なし  \n",
    "　　値の大きさの解釈が困難(p.74の真ん中くらいの記述）  \n",
    "相関係数・・・共分散をそれぞれの系列の標準偏差で割ったもの\n",
    "\n",
    "### ５．３　シンプソンのパラドックス\n",
    "\n",
    "東海岸のデータサイエンティストの方が友達が少ない  \n",
    "\n",
    "\n",
    "実は  \n",
    "PhDありの人が友達が少ない、かつ、東海岸はPhDありの人が多い　だった  \n",
    "\n",
    "PhDありだけで調べたら東海岸の方が友達が多い    \n",
    "PhDなしだけで調べても東海岸の方が友達が多い  \n",
    "\n",
    "\n",
    "### ５．４　その他相関係数についての注意点\n",
    "\n",
    "\n",
    "相関係数が０の場合、２つの変数には線形関係が存在しないことを示します。  \n",
    "別の種類の関係があるかもしれません。\n",
    "\n",
    "例えば  \n",
    "x = [-2, -1, 0, 1, 2]  \n",
    "y = [ 2,  1, 0, 1, 2]  \n",
    "\n",
    "yはxの絶対値  \n",
    "ここで欠けているのは、x_iとmean(x)を比較することで、y_iとmean(y)に関する情報が得られるという関係  \n",
    "\n",
    "相関係数は関係がどれだけ大きいのかについては何も言及しません  \n",
    "\n",
    "x = [-2, -1, 0, 1, 2]  \n",
    "y = [99.98, 99.99, 100, 100.01, 100.02]  \n",
    "\n",
    "yの平均と分散に関して得られる正しい情報があるが、  \n",
    "yは絶対値に対して、そもそも5サンプルの分散が非常に小さいので、ほとんど変わっていないという解釈もできる  \n",
    "\n",
    "\n",
    "### ５．５　相関係数と因果関係\n",
    "\n",
    "「相関関係は因果関係ではない」  \n",
    "\n",
    "相関があったとして、それだけでは、どっち向きかの因果関係があるかどうかは言えない  \n",
    "  \n",
    "ゲームをしている時間  \n",
    "試験の成績  \n",
    "\n",
    "ゲームをしている時間が長いから　試験の成績が低いのだ  \n",
    "と、もし結論づけて、それが正しかったとしても、相関はそこまでは主張はしていない  \n",
    "\n",
    "\n",
    "\n"
   ]
  },
  {
   "cell_type": "code",
   "execution_count": null,
   "metadata": {},
   "outputs": [],
   "source": []
  }
 ],
 "metadata": {
  "kernelspec": {
   "display_name": "Python 3",
   "language": "python",
   "name": "python3"
  },
  "language_info": {
   "codemirror_mode": {
    "name": "ipython",
    "version": 3
   },
   "file_extension": ".py",
   "mimetype": "text/x-python",
   "name": "python",
   "nbconvert_exporter": "python",
   "pygments_lexer": "ipython3",
   "version": "3.5.4"
  }
 },
 "nbformat": 4,
 "nbformat_minor": 2
}
